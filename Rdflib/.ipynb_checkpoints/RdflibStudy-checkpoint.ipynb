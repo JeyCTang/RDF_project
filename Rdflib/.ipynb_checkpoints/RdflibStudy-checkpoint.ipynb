{
 "cells": [
  {
   "cell_type": "code",
   "execution_count": 2,
   "id": "dominican-morning",
   "metadata": {
    "collapsed": true
   },
   "outputs": [
    {
     "name": "stdout",
     "output_type": "stream",
     "text": [
      "graph has 86 statements.\n",
      "@prefix : <http://xmlns.com/foaf/0.1/> .\n",
      "@prefix cc: <http://creativecommons.org/ns#> .\n",
      "@prefix cert: <http://www.w3.org/ns/auth/cert#> .\n",
      "@prefix con: <http://www.w3.org/2000/10/swap/pim/contact#> .\n",
      "@prefix dc: <http://purl.org/dc/elements/1.1/> .\n",
      "@prefix dct: <http://purl.org/dc/terms/> .\n",
      "@prefix doap: <http://usefulinc.com/ns/doap#> .\n",
      "@prefix geo: <http://www.w3.org/2003/01/geo/wgs84_pos#> .\n",
      "@prefix ldp: <http://www.w3.org/ns/ldp#> .\n",
      "@prefix rdfs: <http://www.w3.org/2000/01/rdf-schema#> .\n",
      "@prefix schema: <http://schema.org/> .\n",
      "@prefix sioc: <http://rdfs.org/sioc/ns#> .\n",
      "@prefix solid: <http://www.w3.org/ns/solid/terms#> .\n",
      "@prefix space: <http://www.w3.org/ns/pim/space#> .\n",
      "@prefix vcard: <http://www.w3.org/2006/vcard/ns#> .\n",
      "@prefix xsd: <http://www.w3.org/2001/XMLSchema#> .\n",
      "\n",
      "<http://dig.csail.mit.edu/2005/ajar/ajaw/data#Tabulator> doap:developer <https://www.w3.org/People/Berners-Lee/card#i> .\n",
      "\n",
      "<http://dig.csail.mit.edu/2007/01/camp/data#course> :maker <https://www.w3.org/People/Berners-Lee/card#i> .\n",
      "\n",
      "<http://dig.csail.mit.edu/data#DIG> :member <https://www.w3.org/People/Berners-Lee/card#i> .\n",
      "\n",
      "<http://wiki.ontoworld.org/index.php/_IRW2006> dc:title \"Identity, Reference and the Web workshop 2006\" ;\n",
      "    con:participant <https://www.w3.org/People/Berners-Lee/card#i> .\n",
      "\n",
      "<http://www.ecs.soton.ac.uk/~dt2/dlstuff/www2006_data#panel-panelk01> rdfs:label \"The Next Wave of the Web (Plenary Panel)\" ;\n",
      "    con:participant <https://www.w3.org/People/Berners-Lee/card#i> .\n",
      "\n",
      "<http://www.w3.org/2000/10/swap/data#Cwm> doap:developer <https://www.w3.org/People/Berners-Lee/card#i> .\n",
      "\n",
      "<http://www.w3.org/2011/Talks/0331-hyderabad-tbl/data#talk> dct:title \"Designing the Web for an Open Society\" ;\n",
      "    :maker <https://www.w3.org/People/Berners-Lee/card#i> .\n",
      "\n",
      "<http://www.w3.org/DesignIssues/Overview.html> dc:title \"Design Issues for the World Wide Web\" ;\n",
      "    :maker <https://www.w3.org/People/Berners-Lee/card#i> .\n",
      "\n",
      "<http://www.w3.org/People/Berners-Lee/card> a :PersonalProfileDocument ;\n",
      "    cc:license <http://creativecommons.org/licenses/by-nc/3.0/> ;\n",
      "    dc:title \"Tim Berners-Lee's FOAF file\" ;\n",
      "    :maker <https://www.w3.org/People/Berners-Lee/card#i> ;\n",
      "    :primaryTopic <https://www.w3.org/People/Berners-Lee/card#i> .\n",
      "\n",
      "<http://www.w3.org/People/Berners-Lee/card#i> cert:key [ a cert:RSAPublicKey ;\n",
      "            cert:exponent 65537 ;\n",
      "            cert:modulus \"ebe99c737bd3670239600547e5e2eb1d1497da39947b6576c3c44ffeca32cf0f2f7cbee3c47001278a90fc7fc5bcf292f741eb1fcd6bbe7f90650afb519cf13e81b2bffc6e02063ee5a55781d420b1dfaf61c15758480e66d47fb0dcb5fa7b9f7f1052e5ccbd01beee9553c3b6b51f4daf1fce991294cd09a3d1d636bc6c7656e4455d0aff06daec740ed0084aa6866fcae1359de61cc12dbe37c8fa42e977c6e727a8258bb9a3f265b27e3766fe0697f6aa0bcc81c3f026e387bd7bbc81580dc1853af2daa099186a9f59da526474ef6ec0a3d84cf400be3261b6b649dea1f78184862d34d685d2d587f09acc14cd8e578fdd2283387821296f0af39b8d8845\"^^xsd:hexBinary ] .\n",
      "\n",
      "<http://www.w3.org/data#W3C> :member <https://www.w3.org/People/Berners-Lee/card#i> .\n",
      "\n",
      "<http://dig.csail.mit.edu/breadcrumbs/blog/4> dc:title \"timbl's blog on DIG\" ;\n",
      "    rdfs:seeAlso <http://dig.csail.mit.edu/breadcrumbs/blog/feed/4> ;\n",
      "    :maker <https://www.w3.org/People/Berners-Lee/card#i> .\n",
      "\n",
      "<https://timbl.com/timbl/Public/friends.ttl> a :PersonalProfileDocument ;\n",
      "    cc:license <http://creativecommons.org/licenses/by-nc/3.0/> ;\n",
      "    dc:title \"Tim Berners-Lee's editable profile\" ;\n",
      "    :maker <https://www.w3.org/People/Berners-Lee/card#i> ;\n",
      "    :primaryTopic <https://www.w3.org/People/Berners-Lee/card#i> .\n",
      "\n",
      "<https://www.w3.org/People/Berners-Lee/card#i> a con:Male,\n",
      "        :Person ;\n",
      "    rdfs:label \"Tim Berners-Lee\" ;\n",
      "    sioc:avatar <http://www.w3.org/People/Berners-Lee/images/timbl-image-by-Coz-cropped.jpg> ;\n",
      "    schema:owns <https://timblbot.inrupt.net/profile/card#me> ;\n",
      "    rdfs:seeAlso <https://timbl.com/timbl/Public/friends.ttl> ;\n",
      "    con:assistant <https://www.w3.org/People/Berners-Lee/card#amy> ;\n",
      "    con:homePage <http://www.w3.org/People/Berners-Lee/> ;\n",
      "    con:office [ con:address [ con:city \"Cambridge\" ;\n",
      "                    con:country \"USA\" ;\n",
      "                    con:postalCode \"02139\" ;\n",
      "                    con:street \"32 Vassar Street\" ;\n",
      "                    con:street2 \"MIT CSAIL Building 32\" ] ;\n",
      "            geo:location [ geo:lat \"42.361860\" ;\n",
      "                    geo:long \"-71.091840\" ] ] ;\n",
      "    con:preferredURI \"https://www.w3.org/People/Berners-Lee/card#i\" ;\n",
      "    con:publicHomePage <http://www.w3.org/People/Berners-Lee/> ;\n",
      "    vcard:fn \"Tim Berners-Lee\" ;\n",
      "    vcard:hasAddress [ a vcard:Work ;\n",
      "            vcard:locality \"Cambridge\" ;\n",
      "            vcard:postal-code \"02139\" ;\n",
      "            vcard:region \"MA\" ;\n",
      "            vcard:street-address \"32 Vassar Street\" ] ;\n",
      "    ldp:inbox <https://timbl.com/timbl/Public/Inbox> ;\n",
      "    space:preferencesFile <https://timbl.com/timbl/Data/preferences.n3> ;\n",
      "    space:storage <https://timbl.com/timbl/Public/>,\n",
      "        <https://timbl.inrupt.net/>,\n",
      "        <https://timbl.solid.community/> ;\n",
      "    solid:editableProfile <https://timbl.com/timbl/Public/friends.ttl> ;\n",
      "    solid:oidcIssuer <https://timbl.com> ;\n",
      "    solid:profileBackgroundColor \"#ffffff\" ;\n",
      "    solid:profileHighlightColor \"#00467E\" ;\n",
      "    solid:publicTypeIndex <https://timbl.com/timbl/Public/PublicTypeIndex.ttl> ;\n",
      "    :account <http://en.wikipedia.org/wiki/User:Timbl>,\n",
      "        <http://twitter.com/timberners_lee>,\n",
      "        <http://www.reddit.com/user/timbl/> ;\n",
      "    :based_near [ geo:lat \"42.361860\" ;\n",
      "            geo:long \"-71.091840\" ] ;\n",
      "    :family_name \"Berners-Lee\" ;\n",
      "    :givenname \"Timothy\" ;\n",
      "    :homepage <https://www.w3.org/People/Berners-Lee/> ;\n",
      "    :img <https://www.w3.org/Press/Stock/Berners-Lee/2001-europaeum-eighth.jpg> ;\n",
      "    :mbox <mailto:timbl@w3.org> ;\n",
      "    :mbox_sha1sum \"965c47c5a70db7407210cef6e4e6f5374a525c5c\" ;\n",
      "    :name \"Timothy Berners-Lee\" ;\n",
      "    :nick \"TimBL\",\n",
      "        \"timbl\" ;\n",
      "    :openid <https://www.w3.org/People/Berners-Lee/> ;\n",
      "    :title \"Sir\" ;\n",
      "    :weblog <http://dig.csail.mit.edu/breadcrumbs/blog/4> ;\n",
      "    :workplaceHomepage <https://www.w3.org/> .\n",
      "\n",
      "\n"
     ]
    }
   ],
   "source": [
    "import rdflib\n",
    "\n",
    "# create a Graph\n",
    "g = rdflib.Graph()\n",
    "\n",
    "# parse in an RDF file hosted on the Internet\n",
    "result = g.parse(\"http://www.w3.org/People/Berners-Lee/card\")\n",
    "\n",
    "# loop through each triple in the graph (subj, pred, obj)\n",
    "for subj, pred, obj in g:\n",
    "    # check if there is at least one triple in the Graph\n",
    "    if (subj, pred, obj) not in g:\n",
    "        raise Exception(\"It better be!\")\n",
    "\n",
    "# print the number of \"triples\" in the Graph\n",
    "print(\"graph has {} statements.\".format(len(g)))\n",
    "\n",
    "# print out the entire Graph in the RDF Turtle format\n",
    "print(g.serialize(format=\"turtle\").decode(\"utf-8\"))"
   ]
  },
  {
   "cell_type": "code",
   "execution_count": 6,
   "id": "funded-shelter",
   "metadata": {
    "collapsed": true
   },
   "outputs": [
    {
     "name": "stdout",
     "output_type": "stream",
     "text": [
      "--- print raw triples ---\n",
      "(rdflib.term.URIRef('http://example/org/edward'), rdflib.term.URIRef('http://xmlns.com/foaf/0.1/nick'), rdflib.term.Literal('ed', datatype=rdflib.term.URIRef('http://www.w3.org/2001/XMLSchema#string')))\n",
      "(rdflib.term.URIRef('http://example.org/donna'), rdflib.term.URIRef('http://xmlns.com/foaf/0.1/name'), rdflib.term.Literal('Donna Fales'))\n",
      "(rdflib.term.URIRef('http://example/org/edward'), rdflib.term.URIRef('http://xmlns.com/foaf/0.1/mbox'), rdflib.term.URIRef('mailto:e.scissorhands@example.org'))\n",
      "(rdflib.term.URIRef('http://example.org/donna'), rdflib.term.URIRef('http://xmlns.com/foaf/0.1/mbox'), rdflib.term.URIRef('mailto:donna@example.org'))\n",
      "(rdflib.term.URIRef('http://example/org/edward'), rdflib.term.URIRef('http://www.w3.org/1999/02/22-rdf-syntax-ns#type'), rdflib.term.URIRef('http://xmlns.com/foaf/0.1/Person'))\n",
      "(rdflib.term.URIRef('http://example.org/donna'), rdflib.term.URIRef('http://www.w3.org/1999/02/22-rdf-syntax-ns#type'), rdflib.term.URIRef('http://xmlns.com/foaf/0.1/Person'))\n",
      "(rdflib.term.URIRef('http://example.org/donna'), rdflib.term.URIRef('http://xmlns.com/foaf/0.1/nick'), rdflib.term.Literal('donna', lang='ed'))\n",
      "(rdflib.term.URIRef('http://example/org/edward'), rdflib.term.URIRef('http://xmlns.com/foaf/0.1/name'), rdflib.term.Literal('Edward Scissorhands'))\n",
      "--- printing mboxes ---\n",
      "mailto:donna@example.org\n",
      "mailto:e.scissorhands@example.org\n",
      "--- printing mboxes ---\n",
      "@prefix foaf: <http://xmlns.com/foaf/0.1/> .\n",
      "@prefix xsd: <http://www.w3.org/2001/XMLSchema#> .\n",
      "\n",
      "<http://example.org/donna> a foaf:Person ;\n",
      "    foaf:mbox <mailto:donna@example.org> ;\n",
      "    foaf:name \"Donna Fales\" ;\n",
      "    foaf:nick \"donna\"@ed .\n",
      "\n",
      "<http://example/org/edward> a foaf:Person ;\n",
      "    foaf:mbox <mailto:e.scissorhands@example.org> ;\n",
      "    foaf:name \"Edward Scissorhands\" ;\n",
      "    foaf:nick \"ed\"^^xsd:string .\n",
      "\n",
      "\n"
     ]
    }
   ],
   "source": [
    "from rdflib import Graph, Literal, RDF, URIRef \n",
    "# rdflib knows about some namespaces, like FOAF\n",
    "from rdflib.namespace import FOAF, XSD\n",
    "\n",
    "# create a Graph\n",
    "g = Graph()\n",
    "\n",
    "# Create an RDF URI node to use as the subject for mutiple triples\n",
    "donna = URIRef('http://example.org/donna')\n",
    "\n",
    "# Add triples using store's add() method.\n",
    "g.add((donna, RDF.type, FOAF.Person))\n",
    "g.add((donna, FOAF.nick, Literal('donna', lang='ed')))\n",
    "g.add((donna, FOAF.name, Literal('Donna Fales')))\n",
    "g.add((donna, FOAF.mbox, URIRef('mailto:donna@example.org')))\n",
    "\n",
    "# Add another person\n",
    "ed = URIRef(\"http://example/org/edward\")\n",
    "\n",
    "# Add triples using store's add() method.\n",
    "g.add((ed, RDF.type, FOAF.Person))\n",
    "g.add((ed, FOAF.nick, Literal('ed', datatype=XSD.string)))\n",
    "g.add((ed, FOAF.name, Literal('Edward Scissorhands')))\n",
    "g.add((ed, FOAF.mbox, URIRef('mailto:e.scissorhands@example.org')))\n",
    "\n",
    "# Iterate over triples store and print them\n",
    "print('--- print raw triples ---')\n",
    "for s, p, o in g:\n",
    "    print((s, p, o))\n",
    "    \n",
    "# For each foaf:Person in the store, print out their mailbox properties value\n",
    "print('--- printing mboxes ---')\n",
    "for person in g.subjects(RDF.type, FOAF.Person):\n",
    "    for mbox in g.objects(person, FOAF.mbox):\n",
    "        print(mbox)\n",
    "        \n",
    "# Bind the FOAF namespace to a prefix for more readable output\n",
    "g.bind('foaf', FOAF)\n",
    "\n",
    "# print all the data in the Notation3 format\n",
    "print('--- printing mboxes ---')\n",
    "print(g.serialize(format='turtle').decode('utf-8'))"
   ]
  },
  {
   "cell_type": "markdown",
   "id": "sustainable-benchmark",
   "metadata": {},
   "source": [
    "## Loading and Saving RDF"
   ]
  },
  {
   "cell_type": "code",
   "execution_count": 8,
   "id": "mineral-steam",
   "metadata": {},
   "outputs": [
    {
     "name": "stdout",
     "output_type": "stream",
     "text": [
      "(rdflib.term.URIRef('http://bigasterisk.com/foaf.rdf#drewp'),\n",
      " rdflib.term.URIRef('http://www.w3.org/1999/02/22-rdf-syntax-ns#type'),\n",
      " rdflib.term.URIRef('http://xmlns.com/foaf/0.1/Person'))\n",
      "(rdflib.term.URIRef('http://bigasterisk.com/foaf.rdf#drewp'),\n",
      " rdflib.term.URIRef('http://example.com/says'),\n",
      " rdflib.term.Literal('Hello world'))\n",
      "(rdflib.term.URIRef('http://bigasterisk.com/foaf.rdf#drewp'), rdflib.term.URIRef('http://www.w3.org/1999/02/22-rdf-syntax-ns#type'), rdflib.term.URIRef('http://xmlns.com/foaf/0.1/Person'))\n",
      "(rdflib.term.URIRef('http://bigasterisk.com/foaf.rdf#drewp'), rdflib.term.URIRef('http://example.com/says'), rdflib.term.Literal('Hello world'))\n"
     ]
    }
   ],
   "source": [
    "from rdflib import Graph\n",
    "\n",
    "g = Graph()\n",
    "g.parse('demo.nt', format='nt')\n",
    "\n",
    "import pprint\n",
    "for stmt in g:\n",
    "    pprint.pprint(stmt)"
   ]
  },
  {
   "cell_type": "markdown",
   "id": "unnecessary-picnic",
   "metadata": {},
   "source": [
    "## Creating Nodes"
   ]
  },
  {
   "cell_type": "code",
   "execution_count": 10,
   "id": "previous-phenomenon",
   "metadata": {},
   "outputs": [],
   "source": [
    "from rdflib import URIRef, BNode, Literal\n",
    "\n",
    "bob = URIRef('http://example.org/person/Bob')\n",
    "linda = BNode() # GUID is generated 全局标识符会生产给这个空节点\n",
    "\n",
    "name = Literal('Bob')\n",
    "age = Literal(24)\n",
    "height = Literal(76.5)"
   ]
  },
  {
   "cell_type": "markdown",
   "id": "coastal-depression",
   "metadata": {},
   "source": [
    "For creating many URIRefs in the same namespace, ie., URIs with same prifix"
   ]
  },
  {
   "cell_type": "code",
   "execution_count": 11,
   "id": "constant-score",
   "metadata": {},
   "outputs": [
    {
     "data": {
      "text/plain": [
       "rdflib.term.URIRef('http://example.org/personeve')"
      ]
     },
     "execution_count": 11,
     "metadata": {},
     "output_type": "execute_result"
    }
   ],
   "source": [
    "from rdflib import Namespace\n",
    "\n",
    "n = Namespace('http://example.org/person')\n",
    "\n",
    "n.bob\n",
    "n.eve"
   ]
  },
  {
   "cell_type": "code",
   "execution_count": 12,
   "id": "fourth-clothing",
   "metadata": {},
   "outputs": [
    {
     "data": {
      "text/plain": [
       "rdflib.term.URIRef('http://www.w3.org/ns/ssn/Sensor')"
      ]
     },
     "execution_count": 12,
     "metadata": {},
     "output_type": "execute_result"
    }
   ],
   "source": [
    "from rdflib.namespace import CSVW, DC, DCAT, DCTERMS, DOAP, FOAF, ODRL2, ORG, OWL, \\\n",
    "                           PROF, PROV, RDF, RDFS, SDO, SH, SKOS, SOSA, SSN, TIME, \\\n",
    "                           VOID, XMLNS, XSD\n",
    "RDF.type\n",
    "\n",
    "FOAF.knows\n",
    "\n",
    "PROF.isProfileOf\n",
    "\n",
    "SOSA.Sensor"
   ]
  },
  {
   "cell_type": "markdown",
   "id": "protecting-rebound",
   "metadata": {},
   "source": [
    "## Adding Triples"
   ]
  },
  {
   "cell_type": "code",
   "execution_count": null,
   "id": "maritime-potato",
   "metadata": {},
   "outputs": [],
   "source": [
    "from rdflib import Graph\n",
    "g = Graph()\n",
    "# 把g跟foaf这个命名空间绑定起来\n",
    "g.bind(\"foaf\", FOAF)\n",
    "\n",
    "g.add((bob, RDF.type, FOAF.Person))\n",
    "g.add((bob, FOAF.name, name))\n",
    "g.add((bob, FOAF.knows, linda))\n",
    "g.add((linda, RDF.type, FOAF.Person))\n",
    "g.add((linda, FOAF.name, Literal(\"Linda\")))\n",
    "\n",
    "# 这个g.serialize()函数，是用来以特定的格式如n-tuples, turtle 等载入rdf的\n",
    "\n",
    "print(g.serialize(format=\"turtle\").decode('utf-8'))"
   ]
  },
  {
   "cell_type": "markdown",
   "id": "velvet-photographer",
   "metadata": {},
   "source": [
    "If you want to change the value of a properties, you can use set() method."
   ]
  },
  {
   "cell_type": "code",
   "execution_count": 20,
   "id": "electoral-garlic",
   "metadata": {},
   "outputs": [
    {
     "name": "stdout",
     "output_type": "stream",
     "text": [
      "Bob is  42\n"
     ]
    }
   ],
   "source": [
    "g.add((bob,FOAF.age, Literal(42)))\n",
    "print(\"Bob is \", g.value(bob, FOAF.age))"
   ]
  },
  {
   "cell_type": "code",
   "execution_count": 21,
   "id": "technological-prisoner",
   "metadata": {},
   "outputs": [
    {
     "name": "stdout",
     "output_type": "stream",
     "text": [
      "Bob is now  55\n"
     ]
    }
   ],
   "source": [
    "g.set((bob, FOAF.age, Literal(55)))\n",
    "print(\"Bob is now \", g.value(bob, FOAF.age))"
   ]
  },
  {
   "cell_type": "markdown",
   "id": "expensive-royal",
   "metadata": {},
   "source": [
    "## Querying with SPARQL\n",
    "### Run a Query"
   ]
  },
  {
   "cell_type": "code",
   "execution_count": 24,
   "id": "handled-content",
   "metadata": {},
   "outputs": [
    {
     "name": "stdout",
     "output_type": "stream",
     "text": [
      "@prefix foaf: <http://xmlns.com/foaf/0.1/> .\n",
      "@prefix xsd: <http://www.w3.org/2001/XMLSchema#> .\n",
      "\n",
      "<http://example.org/person/Bob> a foaf:Person ;\n",
      "    foaf:age 55 ;\n",
      "    foaf:knows [ a foaf:Person ;\n",
      "            foaf:name \"Linda\" ] ;\n",
      "    foaf:name \"Bob\" .\n",
      "\n",
      "\n",
      "Bob knows Linda\n"
     ]
    }
   ],
   "source": [
    "import rdflib\n",
    "\n",
    "print(g.serialize(format='turtle').decode('utf-8'))\n",
    "qres = g.query(\n",
    "    \"\"\"SELECT DISTINCT ?aname ?bname\n",
    "    WHERE {\n",
    "        ?a foaf:knows ?b.\n",
    "        ?a foaf:name ?aname.\n",
    "        ?b foaf:name ?bname.\n",
    "    }\"\"\"\n",
    ")\n",
    "for row in qres:\n",
    "    print(\"%s knows %s\" % row)"
   ]
  }
 ],
 "metadata": {
  "kernelspec": {
   "display_name": "Python 3",
   "language": "python",
   "name": "python3"
  },
  "language_info": {
   "codemirror_mode": {
    "name": "ipython",
    "version": 3
   },
   "file_extension": ".py",
   "mimetype": "text/x-python",
   "name": "python",
   "nbconvert_exporter": "python",
   "pygments_lexer": "ipython3",
   "version": "3.8.8"
  }
 },
 "nbformat": 4,
 "nbformat_minor": 5
}
